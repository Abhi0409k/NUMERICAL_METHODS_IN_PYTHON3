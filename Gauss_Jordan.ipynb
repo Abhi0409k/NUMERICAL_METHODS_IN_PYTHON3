{
 "cells": [
  {
   "cell_type": "code",
   "execution_count": 1,
   "id": "a8f0310a",
   "metadata": {},
   "outputs": [
    {
     "name": "stdout",
     "output_type": "stream",
     "text": [
      "Enter the size of the matrix \t3\n",
      "Enter the entries in a single line separated by a space\n",
      "1 1 1 2 6 -4 5 31 5 2 2 13\n",
      "The solution vector is:\n",
      "X0 =3.0000 \t\n",
      "X1 =-2.0000 \t\n",
      "X2 =1.0000 \t\n"
     ]
    }
   ],
   "source": [
    "# (0)\n",
    "# importing required libraries\n",
    "import numpy as np\n",
    "import sys\n",
    "\n",
    "# (1)\n",
    "# taking inputs\n",
    "# creating matrices\n",
    "# validating the inputs\n",
    "\n",
    "n = int(input('Enter the size of the matrix \\t'))\n",
    "X = np.zeros(n)\n",
    "\n",
    "print('Enter the entries in a single line separated by a space')\n",
    "entries = list(map(float, input().split()))\n",
    "G = np.array(entries).reshape(n, n+1)\n",
    "\n",
    "A = np.delete(G,n,1)\n",
    "detA = np.linalg.det(A)\n",
    "if  np.absolute(detA) < 0.00001 :\n",
    "    sys.exit('This set of equations are indeterminant')\n",
    "        \n",
    "# (2)\n",
    "# Scaling the matrix\n",
    "\n",
    "AbsA = np.absolute(A)\n",
    "scal = np.amax(AbsA, 1)\n",
    "\n",
    "for i in range(n):\n",
    "    for j in range(n+1):\n",
    "        G[i,j] = G[i,j]/scal[i]\n",
    "        \n",
    "# (3)\n",
    "# Partial Pivoting along coloumns\n",
    "\n",
    "p = np.argmax(AbsA, 0)\n",
    "for i in range(n):\n",
    "    if p[i] > i:\n",
    "        G[[i,p[i]]] = G[[p[i],i]]\n",
    "        \n",
    "# (4)\n",
    "# Row transforms\n",
    "\n",
    "for i in range(n):\n",
    "    if G[i,i] == 0.0:\n",
    "        sys.exit('Not possible by this method')\n",
    "    for j in range(n):\n",
    "        if i != j:\n",
    "            G[j,:] = G[j,:] - (G[j,i]/G[i,i])*G[i,:]\n",
    "            \n",
    "# (5)\n",
    "# Back Substitution\n",
    "\n",
    "for i in range(n):\n",
    "    X[i] = G[i,n]/G[i,i]\n",
    "\n",
    "# (6)\n",
    "# Displaying Solution\n",
    "\n",
    "print('The solution vector is:')\n",
    "for i in range(n):\n",
    "    print('X[%d] =%0.4f' %(i,X[i]),'\\t')\n",
    "    "
   ]
  },
  {
   "cell_type": "code",
   "execution_count": null,
   "id": "2c938e94",
   "metadata": {},
   "outputs": [],
   "source": []
  },
  {
   "cell_type": "code",
   "execution_count": null,
   "id": "902460c4",
   "metadata": {},
   "outputs": [],
   "source": []
  }
 ],
 "metadata": {
  "kernelspec": {
   "display_name": "Python 3",
   "language": "python",
   "name": "python3"
  },
  "language_info": {
   "codemirror_mode": {
    "name": "ipython",
    "version": 3
   },
   "file_extension": ".py",
   "mimetype": "text/x-python",
   "name": "python",
   "nbconvert_exporter": "python",
   "pygments_lexer": "ipython3",
   "version": "3.8.8"
  }
 },
 "nbformat": 4,
 "nbformat_minor": 5
}
